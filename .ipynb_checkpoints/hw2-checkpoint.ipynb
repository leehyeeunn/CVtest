{
 "cells": [
  {
   "cell_type": "code",
   "execution_count": 1,
   "id": "ac0dc66c-9e70-4b29-a5ce-3a8111cdb10a",
   "metadata": {},
   "outputs": [
    {
     "name": "stdout",
     "output_type": "stream",
     "text": [
      "Requirement already satisfied: numpy in c:\\users\\82109\\anaconda3\\lib\\site-packages (1.26.4)\n",
      "Requirement already satisfied: opencv-python in c:\\users\\82109\\anaconda3\\lib\\site-packages (4.11.0.86)\n",
      "Requirement already satisfied: pytest in c:\\users\\82109\\anaconda3\\lib\\site-packages (7.4.4)\n",
      "Requirement already satisfied: iniconfig in c:\\users\\82109\\anaconda3\\lib\\site-packages (from pytest) (1.1.1)\n",
      "Requirement already satisfied: packaging in c:\\users\\82109\\anaconda3\\lib\\site-packages (from pytest) (24.1)\n",
      "Requirement already satisfied: pluggy<2.0,>=0.12 in c:\\users\\82109\\anaconda3\\lib\\site-packages (from pytest) (1.0.0)\n",
      "Requirement already satisfied: colorama in c:\\users\\82109\\anaconda3\\lib\\site-packages (from pytest) (0.4.6)\n",
      "Note: you may need to restart the kernel to use updated packages.\n"
     ]
    }
   ],
   "source": [
    "pip install numpy opencv-python pytest"
   ]
  },
  {
   "cell_type": "code",
   "execution_count": 2,
   "id": "ea578ac0-69a3-4906-916e-49d32c0c51a0",
   "metadata": {},
   "outputs": [],
   "source": [
    "import numpy as np\n",
    "import pytest\n",
    "import cv2"
   ]
  },
  {
   "cell_type": "code",
   "execution_count": 3,
   "id": "476e9b31-2dc5-4540-b510-fa45bfeeba83",
   "metadata": {},
   "outputs": [],
   "source": [
    "def generate_depth_map(image):\n",
    "    if image is None:\n",
    "        raise ValueError(\"입력된 이미지가 없습니다.\")\n",
    "    grayscale = cv2.cvtColor(image, cv2.COLOR_BGR2GRAY)\n",
    "    depth_map = cv2.applyColorMap(grayscale, cv2.COLORMAP_JET)\n",
    "    return depth_map\n",
    "def generate_point_cloud(gray):\n",
    "    if gray is None:\n",
    "        raise ValueError(\"grayscale 이미지가 None입니다.\")\n",
    "        \n",
    "    h, w = gray.shape\n",
    "    X, Y = np.meshgrid(np.arange(w), np.arange(h))\n",
    "    Z = gray.astype(np.float32)\n",
    "    points_3d = np.dstack((X, Y, Z))\n",
    "    return points_3d\n"
   ]
  },
  {
   "cell_type": "code",
   "execution_count": 4,
   "id": "48ee7d63-269b-46b1-8a83-83515c2c57f0",
   "metadata": {},
   "outputs": [],
   "source": [
    "image = cv2.imread(\"sample.jpg\")\n",
    "\n",
    "# Depth Map 생성\n",
    "depth_map = generate_depth_map(image)\n",
    "\n",
    "# Grayscale 변환 (포인트 클라우드 생성용)\n",
    "gray = cv2.cvtColor(image, cv2.COLOR_BGR2GRAY)\n",
    "\n",
    "# 3D 포인트 클라우드 생성\n",
    "points_3d = generate_point_cloud(gray)\n",
    "\n",
    "# 출력\n",
    "cv2.imshow(\"Original\", image)\n",
    "cv2.imshow(\"Depth Map\", depth_map)\n",
    "cv2.waitKey(0)\n",
    "cv2.destroyAllWindows()\n"
   ]
  },
  {
   "cell_type": "code",
   "execution_count": 6,
   "id": "901cebef-be77-4a24-83d2-4f3527eeddf4",
   "metadata": {},
   "outputs": [],
   "source": [
    "def test_generate_depth_map():\n",
    "    image = np.zeros((100, 100, 3), dtype=np.uint8)\n",
    "    depth_map = generate_depth_map(image)\n",
    "\n",
    "    assert depth_map.shape == image.shape, \"출력 크기가 입력과 다릅니다.\"\n",
    "    assert isinstance(depth_map, np.ndarray), \"출력이 ndarray가 아닙니다.\"\n",
    "test_generate_depth_map()"
   ]
  },
  {
   "cell_type": "code",
   "execution_count": null,
   "id": "daf21816-39ca-4249-93a2-77675889d9f5",
   "metadata": {},
   "outputs": [],
   "source": []
  }
 ],
 "metadata": {
  "kernelspec": {
   "display_name": "Python 3 (ipykernel)",
   "language": "python",
   "name": "python3"
  },
  "language_info": {
   "codemirror_mode": {
    "name": "ipython",
    "version": 3
   },
   "file_extension": ".py",
   "mimetype": "text/x-python",
   "name": "python",
   "nbconvert_exporter": "python",
   "pygments_lexer": "ipython3",
   "version": "3.12.7"
  }
 },
 "nbformat": 4,
 "nbformat_minor": 5
}
